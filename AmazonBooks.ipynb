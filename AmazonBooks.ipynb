{
  "nbformat": 4,
  "nbformat_minor": 0,
  "metadata": {
    "colab": {
      "provenance": [],
      "collapsed_sections": [
        "OsI2hFYGljTH"
      ]
    },
    "kernelspec": {
      "name": "python3",
      "display_name": "Python 3"
    },
    "language_info": {
      "name": "python"
    }
  },
  "cells": [
    {
      "cell_type": "markdown",
      "source": [
        "#**1-Data Collecting:**"
      ],
      "metadata": {
        "id": "xMEIgHk-lKQr"
      }
    },
    {
      "cell_type": "code",
      "source": [
        "import pandas as pd\n",
        "import numpy as np\n",
        "import matplotlib.pyplot as plt\n",
        "import seaborn as sns\n",
        "%matplotlib inline\n",
        "import re\n",
        "import time\n",
        "from datetime import datetime\n",
        "import matplotlib.dates as mdates\n",
        "import matplotlib.ticker as ticker\n",
        "from urllib.request import urlopen\n",
        "from bs4 import BeautifulSoup\n",
        "import requests"
      ],
      "metadata": {
        "id": "fZ1LSVFdlfo6"
      },
      "execution_count": null,
      "outputs": []
    },
    {
      "cell_type": "markdown",
      "source": [
        "###**1.2- Web Scraping:**"
      ],
      "metadata": {
        "id": "OsI2hFYGljTH"
      }
    },
    {
      "cell_type": "markdown",
      "source": [
        "using the web Scraping codes from Amazon.com"
      ],
      "metadata": {
        "id": "bXQVERZLhy4I"
      }
    },
    {
      "cell_type": "code",
      "source": [
        "no_pages = 15\n",
        "\n",
        "def get_data(pageNo):\n",
        "    headers = {\"User-Agent\":\"Mozilla/5.0 (Windows NT 10.0; Win64; x64; rv:66.0) Gecko/20100101 Firefox/66.0\", \"Accept-Encoding\":\"gzip, deflate\", \"Accept\":\"text/html,application/xhtml+xml,application/xml;q=0.9,*/*;q=0.8\", \"DNT\":\"1\",\"Connection\":\"close\", \"Upgrade-Insecure-Requests\":\"1\"}\n",
        "\n",
        "    r = requests.get('https://www.amazon.sa/-/en/s?k=book&i=stripbooks&rh=n%3A12463048031%2Cn%3A16964834031&dc&page=3&language=en&crid=1MSN01VVU9GYY&qid=1711400365&rnid=12463048031&sprefix=engl+book%2Cstripbooks%2C312&ref=sr_pg_3'+str(pageNo)+'?ie=UTF8&pg='+str(pageNo), headers=headers)#, proxies=proxies)\n",
        "    content = r.content\n",
        "    soup = BeautifulSoup(content)\n",
        "    #print(soup)\n",
        "\n",
        "    alls = []\n",
        "    for d in soup.findAll('div', attrs={'a-section a-spacing-small a-spacing-top-small'}):\n",
        "        #print(d)\n",
        "        name = d.find('span', attrs={'class':'a-size-medium a-color-base a-text-normal'})\n",
        "        price = d.find('span', attrs={'class':'a-price-whole'})\n",
        "        rating = d.find('span', attrs={'class':'a-icon-alt'})\n",
        "        users_rated = d.find('span', attrs={'class':'a-size-base s-underline-text'})\n",
        "        Author = d.find('div', attrs={'class':'a-row'})\n",
        "        Format = d.find('a', attrs={'class':'a-size-base a-link-normal s-underline-text s-underline-link-text s-link-style a-text-bold'})\n",
        "        OtherFormat = d.find('div', attrs={'class':'a-row a-size-base a-color-base'})\n",
        "\n",
        "        all1=[]\n",
        "\n",
        "        if name is not None:\n",
        "\n",
        "            all1.append(name.text)\n",
        "        else:\n",
        "            all1.append(\"unknown-product\")\n",
        "\n",
        "\n",
        "        if rating is not None:\n",
        "            #print(rating.text)\n",
        "            all1.append(rating.text)\n",
        "        else:\n",
        "            all1.append('Null')\n",
        "\n",
        "        if users_rated is not None:\n",
        "            #print(price.text)\n",
        "            all1.append(users_rated.text)\n",
        "        else:\n",
        "            all1.append('0')\n",
        "\n",
        "        if price is not None:\n",
        "            #print(price.text)\n",
        "            all1.append(price.text)\n",
        "        else:\n",
        "            all1.append('0')\n",
        "        if Author is not None:\n",
        "\n",
        "            all1.append(Author.text)\n",
        "        else:\n",
        "            all1.append(\"None\")\n",
        "        if Format is not None:\n",
        "\n",
        "            all1.append(Format.text)\n",
        "        else:\n",
        "            all1.append(\"None\")\n",
        "        if OtherFormat is not None:\n",
        "\n",
        "            all1.append(OtherFormat.text)\n",
        "        else:\n",
        "            all1.append(\"None\")\n",
        "        alls.append(all1)\n",
        "    return alls\n"
      ],
      "metadata": {
        "id": "emn-KljOl4VK"
      },
      "execution_count": null,
      "outputs": []
    },
    {
      "cell_type": "code",
      "source": [
        "results = []\n",
        "for i in range(1, no_pages+1):\n",
        "    results.append(get_data(i))\n",
        "flatten = lambda l: [item for sublist in l for item in sublist]\n",
        "df = pd.DataFrame(flatten(results),columns=['Book Name','Rating','Reviews', 'Price', 'Author','Format', 'Other Format'])"
      ],
      "metadata": {
        "id": "70ItmP0zmXIs"
      },
      "execution_count": null,
      "outputs": []
    },
    {
      "cell_type": "code",
      "source": [
        "df.to_excel('/bookRdataset.xlsx')"
      ],
      "metadata": {
        "id": "HYMGlhIlmhuJ"
      },
      "execution_count": null,
      "outputs": []
    },
    {
      "cell_type": "code",
      "source": [
        "BookDS= pd.read_excel('bookRdataset.xlsx')"
      ],
      "metadata": {
        "id": "BZhbGvEGmpij"
      },
      "execution_count": null,
      "outputs": []
    },
    {
      "cell_type": "code",
      "source": [
        "BookDS.head(20)"
      ],
      "metadata": {
        "colab": {
          "base_uri": "https://localhost:8080/",
          "height": 676
        },
        "id": "SF0UROuyo790",
        "outputId": "d86eaf54-f5b5-45c3-fbba-fb0bc4c7369c"
      },
      "execution_count": null,
      "outputs": [
        {
          "output_type": "execute_result",
          "data": {
            "text/plain": [
              "                                            Book Name              Rating  \\\n",
              "0   It Ends With Us: The emotional #1 Sunday Times...  4.7 out of 5 stars   \n",
              "1                            Once Upon A Broken Heart  4.7 out of 5 stars   \n",
              "2   Atomic Habits: An Easy & Proven Way To Build G...  4.8 out of 5 stars   \n",
              "3   The 48 Laws of Power by Robert Greene - Paperback  4.7 out of 5 stars   \n",
              "4           The Alchemist By Paulo Coelho - Paperback  4.7 out of 5 stars   \n",
              "5                                   The Great Passage                Null   \n",
              "6       101 Essays That Will Change The Way You Think  4.6 out of 5 stars   \n",
              "7                       Silver and the Book of Dreams                Null   \n",
              "8                         Thugs Of Hindostan (Telugu)                Null   \n",
              "9             12 Rules For Life: An Antidote To Chaos  4.7 out of 5 stars   \n",
              "10  The Silent Patient: The Richard And Judy Bookc...  4.6 out of 5 stars   \n",
              "11  The Psychology of Money: Timeless lessons on w...  4.7 out of 5 stars   \n",
              "12                    Map of Tiny Perfect Things, The                Null   \n",
              "13  The Mountain Is You: Transforming Self-Sabotag...  4.7 out of 5 stars   \n",
              "14                             Better Than the Movies  4.7 out of 5 stars   \n",
              "15                    Aakaasam Nee Haddhu Ra (Telugu)                Null   \n",
              "16  Rich Dad Poor Dad: What The Rich Teach Their K...  3.7 out of 5 stars   \n",
              "17  Surrounded By Idiots: The Four Types Of Human ...  4.6 out of 5 stars   \n",
              "18                                        Mahaveerudu                Null   \n",
              "19  Think And Grow Rich: The Landmark Bestseller N...  4.8 out of 5 stars   \n",
              "\n",
              "    Reviews  Price                 Author                 Format  Other Format  \n",
              "0    104264     46      by Colleen Hoover              Paperback     Hardcover  \n",
              "1      2545     54    by Stephanie Garber              Paperback     Hardcover  \n",
              "2     67367     67         by James Clear              Hardcover     Paperback  \n",
              "3     64630     89       by Robert Greene              Paperback     Hardcover  \n",
              "4     80553     33        by Paulo Coelho              Paperback  Novelty Book  \n",
              "5         0      0                   2016            Prime Video          None  \n",
              "6     12049     69       by Brianna Wiest              Paperback          None  \n",
              "7         0      0                   2023            Prime Video          None  \n",
              "8         0      0                   2018            Prime Video          None  \n",
              "9     52528     54  by Jordan B. Peterson              Paperback     Hardcover  \n",
              "10    54994     54    by Alex Michaelides              Paperback     Hardcover  \n",
              "11    16964     68       by Morgan Housel              Paperback     Hardcover  \n",
              "12        0      0                   2021            Prime Video          None  \n",
              "13    10796     64                   None              Paperback    Board book  \n",
              "14     2770     52        by Lynn Painter              Paperback     Hardcover  \n",
              "15        0      0                   2020            Prime Video          None  \n",
              "16    74613     36  by Robert T. Kiyosaki  Mass Market Paperback     Paperback  \n",
              "17     6156     52      by Thomas Erikson              Paperback     Hardcover  \n",
              "18        0      0                   2023            Prime Video          None  \n",
              "19    24580     36       by Napoleon Hill              Paperback    Board book  "
            ],
            "text/html": [
              "\n",
              "  <div id=\"df-45cbe5c7-f1b0-4d50-97df-dacc9a26c89d\" class=\"colab-df-container\">\n",
              "    <div>\n",
              "<style scoped>\n",
              "    .dataframe tbody tr th:only-of-type {\n",
              "        vertical-align: middle;\n",
              "    }\n",
              "\n",
              "    .dataframe tbody tr th {\n",
              "        vertical-align: top;\n",
              "    }\n",
              "\n",
              "    .dataframe thead th {\n",
              "        text-align: right;\n",
              "    }\n",
              "</style>\n",
              "<table border=\"1\" class=\"dataframe\">\n",
              "  <thead>\n",
              "    <tr style=\"text-align: right;\">\n",
              "      <th></th>\n",
              "      <th>Book Name</th>\n",
              "      <th>Rating</th>\n",
              "      <th>Reviews</th>\n",
              "      <th>Price</th>\n",
              "      <th>Author</th>\n",
              "      <th>Format</th>\n",
              "      <th>Other Format</th>\n",
              "    </tr>\n",
              "  </thead>\n",
              "  <tbody>\n",
              "    <tr>\n",
              "      <th>0</th>\n",
              "      <td>It Ends With Us: The emotional #1 Sunday Times...</td>\n",
              "      <td>4.7 out of 5 stars</td>\n",
              "      <td>104264</td>\n",
              "      <td>46</td>\n",
              "      <td>by Colleen Hoover</td>\n",
              "      <td>Paperback</td>\n",
              "      <td>Hardcover</td>\n",
              "    </tr>\n",
              "    <tr>\n",
              "      <th>1</th>\n",
              "      <td>Once Upon A Broken Heart</td>\n",
              "      <td>4.7 out of 5 stars</td>\n",
              "      <td>2545</td>\n",
              "      <td>54</td>\n",
              "      <td>by Stephanie Garber</td>\n",
              "      <td>Paperback</td>\n",
              "      <td>Hardcover</td>\n",
              "    </tr>\n",
              "    <tr>\n",
              "      <th>2</th>\n",
              "      <td>Atomic Habits: An Easy &amp; Proven Way To Build G...</td>\n",
              "      <td>4.8 out of 5 stars</td>\n",
              "      <td>67367</td>\n",
              "      <td>67</td>\n",
              "      <td>by James Clear</td>\n",
              "      <td>Hardcover</td>\n",
              "      <td>Paperback</td>\n",
              "    </tr>\n",
              "    <tr>\n",
              "      <th>3</th>\n",
              "      <td>The 48 Laws of Power by Robert Greene - Paperback</td>\n",
              "      <td>4.7 out of 5 stars</td>\n",
              "      <td>64630</td>\n",
              "      <td>89</td>\n",
              "      <td>by Robert Greene</td>\n",
              "      <td>Paperback</td>\n",
              "      <td>Hardcover</td>\n",
              "    </tr>\n",
              "    <tr>\n",
              "      <th>4</th>\n",
              "      <td>The Alchemist By Paulo Coelho - Paperback</td>\n",
              "      <td>4.7 out of 5 stars</td>\n",
              "      <td>80553</td>\n",
              "      <td>33</td>\n",
              "      <td>by Paulo Coelho</td>\n",
              "      <td>Paperback</td>\n",
              "      <td>Novelty Book</td>\n",
              "    </tr>\n",
              "    <tr>\n",
              "      <th>5</th>\n",
              "      <td>The Great Passage</td>\n",
              "      <td>Null</td>\n",
              "      <td>0</td>\n",
              "      <td>0</td>\n",
              "      <td>2016</td>\n",
              "      <td>Prime Video</td>\n",
              "      <td>None</td>\n",
              "    </tr>\n",
              "    <tr>\n",
              "      <th>6</th>\n",
              "      <td>101 Essays That Will Change The Way You Think</td>\n",
              "      <td>4.6 out of 5 stars</td>\n",
              "      <td>12049</td>\n",
              "      <td>69</td>\n",
              "      <td>by Brianna Wiest</td>\n",
              "      <td>Paperback</td>\n",
              "      <td>None</td>\n",
              "    </tr>\n",
              "    <tr>\n",
              "      <th>7</th>\n",
              "      <td>Silver and the Book of Dreams</td>\n",
              "      <td>Null</td>\n",
              "      <td>0</td>\n",
              "      <td>0</td>\n",
              "      <td>2023</td>\n",
              "      <td>Prime Video</td>\n",
              "      <td>None</td>\n",
              "    </tr>\n",
              "    <tr>\n",
              "      <th>8</th>\n",
              "      <td>Thugs Of Hindostan (Telugu)</td>\n",
              "      <td>Null</td>\n",
              "      <td>0</td>\n",
              "      <td>0</td>\n",
              "      <td>2018</td>\n",
              "      <td>Prime Video</td>\n",
              "      <td>None</td>\n",
              "    </tr>\n",
              "    <tr>\n",
              "      <th>9</th>\n",
              "      <td>12 Rules For Life: An Antidote To Chaos</td>\n",
              "      <td>4.7 out of 5 stars</td>\n",
              "      <td>52528</td>\n",
              "      <td>54</td>\n",
              "      <td>by Jordan B. Peterson</td>\n",
              "      <td>Paperback</td>\n",
              "      <td>Hardcover</td>\n",
              "    </tr>\n",
              "    <tr>\n",
              "      <th>10</th>\n",
              "      <td>The Silent Patient: The Richard And Judy Bookc...</td>\n",
              "      <td>4.6 out of 5 stars</td>\n",
              "      <td>54994</td>\n",
              "      <td>54</td>\n",
              "      <td>by Alex Michaelides</td>\n",
              "      <td>Paperback</td>\n",
              "      <td>Hardcover</td>\n",
              "    </tr>\n",
              "    <tr>\n",
              "      <th>11</th>\n",
              "      <td>The Psychology of Money: Timeless lessons on w...</td>\n",
              "      <td>4.7 out of 5 stars</td>\n",
              "      <td>16964</td>\n",
              "      <td>68</td>\n",
              "      <td>by Morgan Housel</td>\n",
              "      <td>Paperback</td>\n",
              "      <td>Hardcover</td>\n",
              "    </tr>\n",
              "    <tr>\n",
              "      <th>12</th>\n",
              "      <td>Map of Tiny Perfect Things, The</td>\n",
              "      <td>Null</td>\n",
              "      <td>0</td>\n",
              "      <td>0</td>\n",
              "      <td>2021</td>\n",
              "      <td>Prime Video</td>\n",
              "      <td>None</td>\n",
              "    </tr>\n",
              "    <tr>\n",
              "      <th>13</th>\n",
              "      <td>The Mountain Is You: Transforming Self-Sabotag...</td>\n",
              "      <td>4.7 out of 5 stars</td>\n",
              "      <td>10796</td>\n",
              "      <td>64</td>\n",
              "      <td>None</td>\n",
              "      <td>Paperback</td>\n",
              "      <td>Board book</td>\n",
              "    </tr>\n",
              "    <tr>\n",
              "      <th>14</th>\n",
              "      <td>Better Than the Movies</td>\n",
              "      <td>4.7 out of 5 stars</td>\n",
              "      <td>2770</td>\n",
              "      <td>52</td>\n",
              "      <td>by Lynn Painter</td>\n",
              "      <td>Paperback</td>\n",
              "      <td>Hardcover</td>\n",
              "    </tr>\n",
              "    <tr>\n",
              "      <th>15</th>\n",
              "      <td>Aakaasam Nee Haddhu Ra (Telugu)</td>\n",
              "      <td>Null</td>\n",
              "      <td>0</td>\n",
              "      <td>0</td>\n",
              "      <td>2020</td>\n",
              "      <td>Prime Video</td>\n",
              "      <td>None</td>\n",
              "    </tr>\n",
              "    <tr>\n",
              "      <th>16</th>\n",
              "      <td>Rich Dad Poor Dad: What The Rich Teach Their K...</td>\n",
              "      <td>3.7 out of 5 stars</td>\n",
              "      <td>74613</td>\n",
              "      <td>36</td>\n",
              "      <td>by Robert T. Kiyosaki</td>\n",
              "      <td>Mass Market Paperback</td>\n",
              "      <td>Paperback</td>\n",
              "    </tr>\n",
              "    <tr>\n",
              "      <th>17</th>\n",
              "      <td>Surrounded By Idiots: The Four Types Of Human ...</td>\n",
              "      <td>4.6 out of 5 stars</td>\n",
              "      <td>6156</td>\n",
              "      <td>52</td>\n",
              "      <td>by Thomas Erikson</td>\n",
              "      <td>Paperback</td>\n",
              "      <td>Hardcover</td>\n",
              "    </tr>\n",
              "    <tr>\n",
              "      <th>18</th>\n",
              "      <td>Mahaveerudu</td>\n",
              "      <td>Null</td>\n",
              "      <td>0</td>\n",
              "      <td>0</td>\n",
              "      <td>2023</td>\n",
              "      <td>Prime Video</td>\n",
              "      <td>None</td>\n",
              "    </tr>\n",
              "    <tr>\n",
              "      <th>19</th>\n",
              "      <td>Think And Grow Rich: The Landmark Bestseller N...</td>\n",
              "      <td>4.8 out of 5 stars</td>\n",
              "      <td>24580</td>\n",
              "      <td>36</td>\n",
              "      <td>by Napoleon Hill</td>\n",
              "      <td>Paperback</td>\n",
              "      <td>Board book</td>\n",
              "    </tr>\n",
              "  </tbody>\n",
              "</table>\n",
              "</div>\n",
              "    <div class=\"colab-df-buttons\">\n",
              "\n",
              "  <div class=\"colab-df-container\">\n",
              "    <button class=\"colab-df-convert\" onclick=\"convertToInteractive('df-45cbe5c7-f1b0-4d50-97df-dacc9a26c89d')\"\n",
              "            title=\"Convert this dataframe to an interactive table.\"\n",
              "            style=\"display:none;\">\n",
              "\n",
              "  <svg xmlns=\"http://www.w3.org/2000/svg\" height=\"24px\" viewBox=\"0 -960 960 960\">\n",
              "    <path d=\"M120-120v-720h720v720H120Zm60-500h600v-160H180v160Zm220 220h160v-160H400v160Zm0 220h160v-160H400v160ZM180-400h160v-160H180v160Zm440 0h160v-160H620v160ZM180-180h160v-160H180v160Zm440 0h160v-160H620v160Z\"/>\n",
              "  </svg>\n",
              "    </button>\n",
              "\n",
              "  <style>\n",
              "    .colab-df-container {\n",
              "      display:flex;\n",
              "      gap: 12px;\n",
              "    }\n",
              "\n",
              "    .colab-df-convert {\n",
              "      background-color: #E8F0FE;\n",
              "      border: none;\n",
              "      border-radius: 50%;\n",
              "      cursor: pointer;\n",
              "      display: none;\n",
              "      fill: #1967D2;\n",
              "      height: 32px;\n",
              "      padding: 0 0 0 0;\n",
              "      width: 32px;\n",
              "    }\n",
              "\n",
              "    .colab-df-convert:hover {\n",
              "      background-color: #E2EBFA;\n",
              "      box-shadow: 0px 1px 2px rgba(60, 64, 67, 0.3), 0px 1px 3px 1px rgba(60, 64, 67, 0.15);\n",
              "      fill: #174EA6;\n",
              "    }\n",
              "\n",
              "    .colab-df-buttons div {\n",
              "      margin-bottom: 4px;\n",
              "    }\n",
              "\n",
              "    [theme=dark] .colab-df-convert {\n",
              "      background-color: #3B4455;\n",
              "      fill: #D2E3FC;\n",
              "    }\n",
              "\n",
              "    [theme=dark] .colab-df-convert:hover {\n",
              "      background-color: #434B5C;\n",
              "      box-shadow: 0px 1px 3px 1px rgba(0, 0, 0, 0.15);\n",
              "      filter: drop-shadow(0px 1px 2px rgba(0, 0, 0, 0.3));\n",
              "      fill: #FFFFFF;\n",
              "    }\n",
              "  </style>\n",
              "\n",
              "    <script>\n",
              "      const buttonEl =\n",
              "        document.querySelector('#df-45cbe5c7-f1b0-4d50-97df-dacc9a26c89d button.colab-df-convert');\n",
              "      buttonEl.style.display =\n",
              "        google.colab.kernel.accessAllowed ? 'block' : 'none';\n",
              "\n",
              "      async function convertToInteractive(key) {\n",
              "        const element = document.querySelector('#df-45cbe5c7-f1b0-4d50-97df-dacc9a26c89d');\n",
              "        const dataTable =\n",
              "          await google.colab.kernel.invokeFunction('convertToInteractive',\n",
              "                                                    [key], {});\n",
              "        if (!dataTable) return;\n",
              "\n",
              "        const docLinkHtml = 'Like what you see? Visit the ' +\n",
              "          '<a target=\"_blank\" href=https://colab.research.google.com/notebooks/data_table.ipynb>data table notebook</a>'\n",
              "          + ' to learn more about interactive tables.';\n",
              "        element.innerHTML = '';\n",
              "        dataTable['output_type'] = 'display_data';\n",
              "        await google.colab.output.renderOutput(dataTable, element);\n",
              "        const docLink = document.createElement('div');\n",
              "        docLink.innerHTML = docLinkHtml;\n",
              "        element.appendChild(docLink);\n",
              "      }\n",
              "    </script>\n",
              "  </div>\n",
              "\n",
              "\n",
              "<div id=\"df-730f3f20-2be9-4b55-b43c-cf2b1ec39e64\">\n",
              "  <button class=\"colab-df-quickchart\" onclick=\"quickchart('df-730f3f20-2be9-4b55-b43c-cf2b1ec39e64')\"\n",
              "            title=\"Suggest charts\"\n",
              "            style=\"display:none;\">\n",
              "\n",
              "<svg xmlns=\"http://www.w3.org/2000/svg\" height=\"24px\"viewBox=\"0 0 24 24\"\n",
              "     width=\"24px\">\n",
              "    <g>\n",
              "        <path d=\"M19 3H5c-1.1 0-2 .9-2 2v14c0 1.1.9 2 2 2h14c1.1 0 2-.9 2-2V5c0-1.1-.9-2-2-2zM9 17H7v-7h2v7zm4 0h-2V7h2v10zm4 0h-2v-4h2v4z\"/>\n",
              "    </g>\n",
              "</svg>\n",
              "  </button>\n",
              "\n",
              "<style>\n",
              "  .colab-df-quickchart {\n",
              "      --bg-color: #E8F0FE;\n",
              "      --fill-color: #1967D2;\n",
              "      --hover-bg-color: #E2EBFA;\n",
              "      --hover-fill-color: #174EA6;\n",
              "      --disabled-fill-color: #AAA;\n",
              "      --disabled-bg-color: #DDD;\n",
              "  }\n",
              "\n",
              "  [theme=dark] .colab-df-quickchart {\n",
              "      --bg-color: #3B4455;\n",
              "      --fill-color: #D2E3FC;\n",
              "      --hover-bg-color: #434B5C;\n",
              "      --hover-fill-color: #FFFFFF;\n",
              "      --disabled-bg-color: #3B4455;\n",
              "      --disabled-fill-color: #666;\n",
              "  }\n",
              "\n",
              "  .colab-df-quickchart {\n",
              "    background-color: var(--bg-color);\n",
              "    border: none;\n",
              "    border-radius: 50%;\n",
              "    cursor: pointer;\n",
              "    display: none;\n",
              "    fill: var(--fill-color);\n",
              "    height: 32px;\n",
              "    padding: 0;\n",
              "    width: 32px;\n",
              "  }\n",
              "\n",
              "  .colab-df-quickchart:hover {\n",
              "    background-color: var(--hover-bg-color);\n",
              "    box-shadow: 0 1px 2px rgba(60, 64, 67, 0.3), 0 1px 3px 1px rgba(60, 64, 67, 0.15);\n",
              "    fill: var(--button-hover-fill-color);\n",
              "  }\n",
              "\n",
              "  .colab-df-quickchart-complete:disabled,\n",
              "  .colab-df-quickchart-complete:disabled:hover {\n",
              "    background-color: var(--disabled-bg-color);\n",
              "    fill: var(--disabled-fill-color);\n",
              "    box-shadow: none;\n",
              "  }\n",
              "\n",
              "  .colab-df-spinner {\n",
              "    border: 2px solid var(--fill-color);\n",
              "    border-color: transparent;\n",
              "    border-bottom-color: var(--fill-color);\n",
              "    animation:\n",
              "      spin 1s steps(1) infinite;\n",
              "  }\n",
              "\n",
              "  @keyframes spin {\n",
              "    0% {\n",
              "      border-color: transparent;\n",
              "      border-bottom-color: var(--fill-color);\n",
              "      border-left-color: var(--fill-color);\n",
              "    }\n",
              "    20% {\n",
              "      border-color: transparent;\n",
              "      border-left-color: var(--fill-color);\n",
              "      border-top-color: var(--fill-color);\n",
              "    }\n",
              "    30% {\n",
              "      border-color: transparent;\n",
              "      border-left-color: var(--fill-color);\n",
              "      border-top-color: var(--fill-color);\n",
              "      border-right-color: var(--fill-color);\n",
              "    }\n",
              "    40% {\n",
              "      border-color: transparent;\n",
              "      border-right-color: var(--fill-color);\n",
              "      border-top-color: var(--fill-color);\n",
              "    }\n",
              "    60% {\n",
              "      border-color: transparent;\n",
              "      border-right-color: var(--fill-color);\n",
              "    }\n",
              "    80% {\n",
              "      border-color: transparent;\n",
              "      border-right-color: var(--fill-color);\n",
              "      border-bottom-color: var(--fill-color);\n",
              "    }\n",
              "    90% {\n",
              "      border-color: transparent;\n",
              "      border-bottom-color: var(--fill-color);\n",
              "    }\n",
              "  }\n",
              "</style>\n",
              "\n",
              "  <script>\n",
              "    async function quickchart(key) {\n",
              "      const quickchartButtonEl =\n",
              "        document.querySelector('#' + key + ' button');\n",
              "      quickchartButtonEl.disabled = true;  // To prevent multiple clicks.\n",
              "      quickchartButtonEl.classList.add('colab-df-spinner');\n",
              "      try {\n",
              "        const charts = await google.colab.kernel.invokeFunction(\n",
              "            'suggestCharts', [key], {});\n",
              "      } catch (error) {\n",
              "        console.error('Error during call to suggestCharts:', error);\n",
              "      }\n",
              "      quickchartButtonEl.classList.remove('colab-df-spinner');\n",
              "      quickchartButtonEl.classList.add('colab-df-quickchart-complete');\n",
              "    }\n",
              "    (() => {\n",
              "      let quickchartButtonEl =\n",
              "        document.querySelector('#df-730f3f20-2be9-4b55-b43c-cf2b1ec39e64 button');\n",
              "      quickchartButtonEl.style.display =\n",
              "        google.colab.kernel.accessAllowed ? 'block' : 'none';\n",
              "    })();\n",
              "  </script>\n",
              "</div>\n",
              "\n",
              "    </div>\n",
              "  </div>\n"
            ],
            "application/vnd.google.colaboratory.intrinsic+json": {
              "type": "dataframe",
              "variable_name": "BookDS",
              "summary": "{\n  \"name\": \"BookDS\",\n  \"rows\": 405,\n  \"fields\": [\n    {\n      \"column\": \"Book Name\",\n      \"properties\": {\n        \"dtype\": \"string\",\n        \"num_unique_values\": 380,\n        \"samples\": [\n          \"The Official Digital SAT Study Guide\",\n          \"The Tale of Peter Rabbit\",\n          \"Meditations: A New Translation\"\n        ],\n        \"semantic_type\": \"\",\n        \"description\": \"\"\n      }\n    },\n    {\n      \"column\": \"Rating\",\n      \"properties\": {\n        \"dtype\": \"category\",\n        \"num_unique_values\": 25,\n        \"samples\": [\n          \"4.1 out of 5 stars\",\n          \"4.9 out of 5 stars\",\n          \"4.7 out of 5 stars\"\n        ],\n        \"semantic_type\": \"\",\n        \"description\": \"\"\n      }\n    },\n    {\n      \"column\": \"Reviews\",\n      \"properties\": {\n        \"dtype\": \"number\",\n        \"std\": 15941,\n        \"min\": 0,\n        \"max\": 147327,\n        \"num_unique_values\": 352,\n        \"samples\": [\n          75951,\n          6042,\n          12906\n        ],\n        \"semantic_type\": \"\",\n        \"description\": \"\"\n      }\n    },\n    {\n      \"column\": \"Price\",\n      \"properties\": {\n        \"dtype\": \"number\",\n        \"std\": 99,\n        \"min\": 0,\n        \"max\": 1301,\n        \"num_unique_values\": 139,\n        \"samples\": [\n          242,\n          127,\n          35\n        ],\n        \"semantic_type\": \"\",\n        \"description\": \"\"\n      }\n    },\n    {\n      \"column\": \"Author\",\n      \"properties\": {\n        \"dtype\": \"string\",\n        \"num_unique_values\": 324,\n        \"samples\": [\n          \"by Justin A Reynolds\",\n          \"by Yuval Noah Harari\",\n          \"by Tahereh Mafi\"\n        ],\n        \"semantic_type\": \"\",\n        \"description\": \"\"\n      }\n    },\n    {\n      \"column\": \"Format\",\n      \"properties\": {\n        \"dtype\": \"category\",\n        \"num_unique_values\": 9,\n        \"samples\": [\n          \"Product Bundle\",\n          \"Hardcover\",\n          \"Board book\"\n        ],\n        \"semantic_type\": \"\",\n        \"description\": \"\"\n      }\n    },\n    {\n      \"column\": \"Other Format\",\n      \"properties\": {\n        \"dtype\": \"category\",\n        \"num_unique_values\": 10,\n        \"samples\": [\n          \"MP3 CD\",\n          \"Paperback\",\n          \"Library Binding\"\n        ],\n        \"semantic_type\": \"\",\n        \"description\": \"\"\n      }\n    }\n  ]\n}"
            }
          },
          "metadata": {},
          "execution_count": 4
        }
      ]
    },
    {
      "cell_type": "markdown",
      "source": [
        "#**2-Data Processing and Cleaning:**"
      ],
      "metadata": {
        "id": "9n75QM9uqHQd"
      }
    },
    {
      "cell_type": "markdown",
      "source": [
        "Finding the Mising Values and Delete it **:**"
      ],
      "metadata": {
        "id": "FuYwi3HPSSaL"
      }
    },
    {
      "cell_type": "code",
      "source": [
        "missing_values = BookDS.isnull().sum()\n",
        "print(missing_values)"
      ],
      "metadata": {
        "colab": {
          "base_uri": "https://localhost:8080/"
        },
        "id": "4N8lxrCP6fxb",
        "outputId": "e574cd37-bdfb-4593-e897-ca3dbcd67cd0"
      },
      "execution_count": null,
      "outputs": [
        {
          "output_type": "stream",
          "name": "stdout",
          "text": [
            "Book Name       0\n",
            "Rating          0\n",
            "Reviews         0\n",
            "Price           0\n",
            "Author          0\n",
            "Format          0\n",
            "Other Format    2\n",
            "dtype: int64\n"
          ]
        }
      ]
    },
    {
      "cell_type": "code",
      "source": [
        "BookDS = BookDS.dropna()"
      ],
      "metadata": {
        "id": "Ikc3u0t166oO"
      },
      "execution_count": null,
      "outputs": []
    },
    {
      "cell_type": "markdown",
      "source": [
        "Removing rows where the 'Format' column has the value 'Prime Video':"
      ],
      "metadata": {
        "id": "ythLDBUmxCdR"
      }
    },
    {
      "cell_type": "code",
      "source": [
        "specific_value = 'Prime Video'\n",
        "BookDS = BookDS[BookDS['Format'] != specific_value]"
      ],
      "metadata": {
        "id": "orN2XLyaqeGZ"
      },
      "execution_count": null,
      "outputs": []
    },
    {
      "cell_type": "markdown",
      "source": [
        "Removing rows where the 'Format' column has the value 'None':"
      ],
      "metadata": {
        "id": "urQVMV_Z0_C1"
      }
    },
    {
      "cell_type": "code",
      "source": [
        "specific_value = 'None'\n",
        "BookDS = BookDS[BookDS['Format'] != specific_value]"
      ],
      "metadata": {
        "id": "FKNRrkka0uDO"
      },
      "execution_count": null,
      "outputs": []
    },
    {
      "cell_type": "markdown",
      "source": [
        "Removing rows where the 'Author' column has the value 'None':"
      ],
      "metadata": {
        "id": "5iPdjqmVyVeF"
      }
    },
    {
      "cell_type": "code",
      "source": [
        "specific_value = 'None'\n",
        "BookDS = BookDS[BookDS['Author'] != specific_value]"
      ],
      "metadata": {
        "id": "iX_gUdy4rNs5"
      },
      "execution_count": null,
      "outputs": []
    },
    {
      "cell_type": "markdown",
      "source": [
        "Removing the \" out of 5\" substring from each entry in the 'Rating' column, then extracting the decimal number present in each entry And it converts the 'Rating' column to a numeric data type:"
      ],
      "metadata": {
        "id": "tNLGg5M1yg4t"
      }
    },
    {
      "cell_type": "code",
      "source": [
        "BookDS['Rating'] = BookDS['Rating'].str.replace(' out of 5', '')\n",
        "BookDS['Rating'] = BookDS['Rating'].str.extract(r'(\\d+\\.\\d+)')\n",
        "# Convert the column to numeric type\n",
        "BookDS['Rating'] = pd.to_numeric(BookDS['Rating'])\n",
        "BookDS['Price'] = pd.to_numeric(BookDS['Price'])\n",
        "BookDS['Reviews'] = pd.to_numeric(BookDS['Reviews'])"
      ],
      "metadata": {
        "id": "xo0c2LHer5BJ"
      },
      "execution_count": null,
      "outputs": []
    },
    {
      "cell_type": "markdown",
      "source": [
        "Removeing the substring 'by' from the 'Author' column:"
      ],
      "metadata": {
        "id": "Z1H0F56TzEAz"
      }
    },
    {
      "cell_type": "code",
      "source": [
        "BookDS['Author'] = BookDS['Author'].str.replace('by', '')"
      ],
      "metadata": {
        "id": "5I5G5rbrsCXr"
      },
      "execution_count": null,
      "outputs": []
    },
    {
      "cell_type": "markdown",
      "source": [
        "Removing the duplicates value in the 'Book Name' column:"
      ],
      "metadata": {
        "id": "sO6uvY4rzdfN"
      }
    },
    {
      "cell_type": "code",
      "source": [
        "BookDS = BookDS.drop_duplicates(subset='Book Name')"
      ],
      "metadata": {
        "id": "px1LANFovV8j"
      },
      "execution_count": null,
      "outputs": []
    },
    {
      "cell_type": "markdown",
      "source": [
        "\n",
        "Managing categorical features by using The 'select_dtypes' method to identify categorical columns in the BookDS DataFrame, then employs LabelEncoder from 'sklearn.preprocessing' to transform the 'Format' column to numerical values **:**\n",
        "\n",
        "**Label encoding:**\n",
        "\n",
        "**0-** Board Book   **1-**   Flexibound **2-** HardCover\n",
        "**3-** Mass Market Paperback **4-** PaperBack **5**- Product Bundle **6-** Spiral-Bound"
      ],
      "metadata": {
        "id": "9lrBbMV7N30C"
      }
    },
    {
      "cell_type": "code",
      "source": [
        "categorical_features = BookDS.select_dtypes(include=['object']).columns\n",
        "from sklearn.preprocessing import LabelEncoder\n",
        "\n",
        "label_encoder = LabelEncoder()\n",
        "\n",
        "for feature in categorical_features:\n",
        "     BookDS['Format'] = label_encoder.fit_transform(BookDS['Format'])"
      ],
      "metadata": {
        "id": "ONB6ulkjLoiv"
      },
      "execution_count": null,
      "outputs": []
    },
    {
      "cell_type": "markdown",
      "source": [
        "Doing the same method for the 'Other Format Column:\n",
        "\n",
        "**Label encoding:**\n",
        "\n",
        "**0-** Audio CD **1-** Audio Cassette **2-** Board Book **3-** HardCover **4-** Library Binding **5-** MP3 CD **6-** Mass Market Paperback **7-** None Book\n",
        "\n",
        "**8-** Novelty Book **9-** PaperBack"
      ],
      "metadata": {
        "id": "iYOePO1jQHLp"
      }
    },
    {
      "cell_type": "code",
      "source": [
        "categorical_features = BookDS.select_dtypes(include=['object']).columns\n",
        "from sklearn.preprocessing import LabelEncoder\n",
        "\n",
        "label_encoder = LabelEncoder()\n",
        "\n",
        "for feature in categorical_features:\n",
        "     BookDS['Other Format'] = label_encoder.fit_transform(BookDS['Other Format'])"
      ],
      "metadata": {
        "id": "uAZd5-_0M6Fh"
      },
      "execution_count": null,
      "outputs": []
    },
    {
      "cell_type": "markdown",
      "source": [
        "Answering our Third question in phase 1 : Which author has the most books listed in the dataset?\n",
        "we will be finding the Author who has the most books listed in the dataset by using \".mode\" :"
      ],
      "metadata": {
        "id": "YT8EhIBle5Fq"
      }
    },
    {
      "cell_type": "code",
      "source": [
        "most_common_value = BookDS['Author'].mode()[0]\n",
        "print(most_common_value)"
      ],
      "metadata": {
        "colab": {
          "base_uri": "https://localhost:8080/"
        },
        "id": "CmtQ8lrbdxZw",
        "outputId": "748682a7-5856-48d4-a5b8-aa31a5f12e81"
      },
      "execution_count": null,
      "outputs": [
        {
          "output_type": "stream",
          "name": "stdout",
          "text": [
            " CGP Books\n"
          ]
        }
      ]
    },
    {
      "cell_type": "markdown",
      "source": [
        "A summary about the Numerical Variables:"
      ],
      "metadata": {
        "id": "ozuPaibFfYHr"
      }
    },
    {
      "cell_type": "code",
      "source": [
        "BookDS.describe()"
      ],
      "metadata": {
        "colab": {
          "base_uri": "https://localhost:8080/",
          "height": 300
        },
        "id": "8IMyp38geVJJ",
        "outputId": "31f03d61-9618-4842-9638-2aa17c7a3507"
      },
      "execution_count": null,
      "outputs": [
        {
          "output_type": "execute_result",
          "data": {
            "text/plain": [
              "           Rating        Reviews        Price      Format  Other Format\n",
              "count  333.000000     338.000000   338.000000  338.000000    338.000000\n",
              "mean     4.481982    8238.124260    86.248521    3.295858      5.272189\n",
              "std      0.469272   16089.085569   103.906731    1.158652      2.627722\n",
              "min      2.300000       0.000000     0.000000    0.000000      0.000000\n",
              "25%      4.500000     575.250000    40.250000    2.000000      3.000000\n",
              "50%      4.600000    2283.000000    63.000000    4.000000      6.500000\n",
              "75%      4.700000    9338.250000    96.000000    4.000000      7.000000\n",
              "max      4.900000  147327.000000  1301.000000    6.000000      9.000000"
            ],
            "text/html": [
              "\n",
              "  <div id=\"df-a7010aee-99c2-44c6-9bfb-dfa26d79c59b\" class=\"colab-df-container\">\n",
              "    <div>\n",
              "<style scoped>\n",
              "    .dataframe tbody tr th:only-of-type {\n",
              "        vertical-align: middle;\n",
              "    }\n",
              "\n",
              "    .dataframe tbody tr th {\n",
              "        vertical-align: top;\n",
              "    }\n",
              "\n",
              "    .dataframe thead th {\n",
              "        text-align: right;\n",
              "    }\n",
              "</style>\n",
              "<table border=\"1\" class=\"dataframe\">\n",
              "  <thead>\n",
              "    <tr style=\"text-align: right;\">\n",
              "      <th></th>\n",
              "      <th>Rating</th>\n",
              "      <th>Reviews</th>\n",
              "      <th>Price</th>\n",
              "      <th>Format</th>\n",
              "      <th>Other Format</th>\n",
              "    </tr>\n",
              "  </thead>\n",
              "  <tbody>\n",
              "    <tr>\n",
              "      <th>count</th>\n",
              "      <td>333.000000</td>\n",
              "      <td>338.000000</td>\n",
              "      <td>338.000000</td>\n",
              "      <td>338.000000</td>\n",
              "      <td>338.000000</td>\n",
              "    </tr>\n",
              "    <tr>\n",
              "      <th>mean</th>\n",
              "      <td>4.481982</td>\n",
              "      <td>8238.124260</td>\n",
              "      <td>86.248521</td>\n",
              "      <td>3.295858</td>\n",
              "      <td>5.272189</td>\n",
              "    </tr>\n",
              "    <tr>\n",
              "      <th>std</th>\n",
              "      <td>0.469272</td>\n",
              "      <td>16089.085569</td>\n",
              "      <td>103.906731</td>\n",
              "      <td>1.158652</td>\n",
              "      <td>2.627722</td>\n",
              "    </tr>\n",
              "    <tr>\n",
              "      <th>min</th>\n",
              "      <td>2.300000</td>\n",
              "      <td>0.000000</td>\n",
              "      <td>0.000000</td>\n",
              "      <td>0.000000</td>\n",
              "      <td>0.000000</td>\n",
              "    </tr>\n",
              "    <tr>\n",
              "      <th>25%</th>\n",
              "      <td>4.500000</td>\n",
              "      <td>575.250000</td>\n",
              "      <td>40.250000</td>\n",
              "      <td>2.000000</td>\n",
              "      <td>3.000000</td>\n",
              "    </tr>\n",
              "    <tr>\n",
              "      <th>50%</th>\n",
              "      <td>4.600000</td>\n",
              "      <td>2283.000000</td>\n",
              "      <td>63.000000</td>\n",
              "      <td>4.000000</td>\n",
              "      <td>6.500000</td>\n",
              "    </tr>\n",
              "    <tr>\n",
              "      <th>75%</th>\n",
              "      <td>4.700000</td>\n",
              "      <td>9338.250000</td>\n",
              "      <td>96.000000</td>\n",
              "      <td>4.000000</td>\n",
              "      <td>7.000000</td>\n",
              "    </tr>\n",
              "    <tr>\n",
              "      <th>max</th>\n",
              "      <td>4.900000</td>\n",
              "      <td>147327.000000</td>\n",
              "      <td>1301.000000</td>\n",
              "      <td>6.000000</td>\n",
              "      <td>9.000000</td>\n",
              "    </tr>\n",
              "  </tbody>\n",
              "</table>\n",
              "</div>\n",
              "    <div class=\"colab-df-buttons\">\n",
              "\n",
              "  <div class=\"colab-df-container\">\n",
              "    <button class=\"colab-df-convert\" onclick=\"convertToInteractive('df-a7010aee-99c2-44c6-9bfb-dfa26d79c59b')\"\n",
              "            title=\"Convert this dataframe to an interactive table.\"\n",
              "            style=\"display:none;\">\n",
              "\n",
              "  <svg xmlns=\"http://www.w3.org/2000/svg\" height=\"24px\" viewBox=\"0 -960 960 960\">\n",
              "    <path d=\"M120-120v-720h720v720H120Zm60-500h600v-160H180v160Zm220 220h160v-160H400v160Zm0 220h160v-160H400v160ZM180-400h160v-160H180v160Zm440 0h160v-160H620v160ZM180-180h160v-160H180v160Zm440 0h160v-160H620v160Z\"/>\n",
              "  </svg>\n",
              "    </button>\n",
              "\n",
              "  <style>\n",
              "    .colab-df-container {\n",
              "      display:flex;\n",
              "      gap: 12px;\n",
              "    }\n",
              "\n",
              "    .colab-df-convert {\n",
              "      background-color: #E8F0FE;\n",
              "      border: none;\n",
              "      border-radius: 50%;\n",
              "      cursor: pointer;\n",
              "      display: none;\n",
              "      fill: #1967D2;\n",
              "      height: 32px;\n",
              "      padding: 0 0 0 0;\n",
              "      width: 32px;\n",
              "    }\n",
              "\n",
              "    .colab-df-convert:hover {\n",
              "      background-color: #E2EBFA;\n",
              "      box-shadow: 0px 1px 2px rgba(60, 64, 67, 0.3), 0px 1px 3px 1px rgba(60, 64, 67, 0.15);\n",
              "      fill: #174EA6;\n",
              "    }\n",
              "\n",
              "    .colab-df-buttons div {\n",
              "      margin-bottom: 4px;\n",
              "    }\n",
              "\n",
              "    [theme=dark] .colab-df-convert {\n",
              "      background-color: #3B4455;\n",
              "      fill: #D2E3FC;\n",
              "    }\n",
              "\n",
              "    [theme=dark] .colab-df-convert:hover {\n",
              "      background-color: #434B5C;\n",
              "      box-shadow: 0px 1px 3px 1px rgba(0, 0, 0, 0.15);\n",
              "      filter: drop-shadow(0px 1px 2px rgba(0, 0, 0, 0.3));\n",
              "      fill: #FFFFFF;\n",
              "    }\n",
              "  </style>\n",
              "\n",
              "    <script>\n",
              "      const buttonEl =\n",
              "        document.querySelector('#df-a7010aee-99c2-44c6-9bfb-dfa26d79c59b button.colab-df-convert');\n",
              "      buttonEl.style.display =\n",
              "        google.colab.kernel.accessAllowed ? 'block' : 'none';\n",
              "\n",
              "      async function convertToInteractive(key) {\n",
              "        const element = document.querySelector('#df-a7010aee-99c2-44c6-9bfb-dfa26d79c59b');\n",
              "        const dataTable =\n",
              "          await google.colab.kernel.invokeFunction('convertToInteractive',\n",
              "                                                    [key], {});\n",
              "        if (!dataTable) return;\n",
              "\n",
              "        const docLinkHtml = 'Like what you see? Visit the ' +\n",
              "          '<a target=\"_blank\" href=https://colab.research.google.com/notebooks/data_table.ipynb>data table notebook</a>'\n",
              "          + ' to learn more about interactive tables.';\n",
              "        element.innerHTML = '';\n",
              "        dataTable['output_type'] = 'display_data';\n",
              "        await google.colab.output.renderOutput(dataTable, element);\n",
              "        const docLink = document.createElement('div');\n",
              "        docLink.innerHTML = docLinkHtml;\n",
              "        element.appendChild(docLink);\n",
              "      }\n",
              "    </script>\n",
              "  </div>\n",
              "\n",
              "\n",
              "<div id=\"df-f5e5e199-ab23-4dd2-90dd-a2ed2092321f\">\n",
              "  <button class=\"colab-df-quickchart\" onclick=\"quickchart('df-f5e5e199-ab23-4dd2-90dd-a2ed2092321f')\"\n",
              "            title=\"Suggest charts\"\n",
              "            style=\"display:none;\">\n",
              "\n",
              "<svg xmlns=\"http://www.w3.org/2000/svg\" height=\"24px\"viewBox=\"0 0 24 24\"\n",
              "     width=\"24px\">\n",
              "    <g>\n",
              "        <path d=\"M19 3H5c-1.1 0-2 .9-2 2v14c0 1.1.9 2 2 2h14c1.1 0 2-.9 2-2V5c0-1.1-.9-2-2-2zM9 17H7v-7h2v7zm4 0h-2V7h2v10zm4 0h-2v-4h2v4z\"/>\n",
              "    </g>\n",
              "</svg>\n",
              "  </button>\n",
              "\n",
              "<style>\n",
              "  .colab-df-quickchart {\n",
              "      --bg-color: #E8F0FE;\n",
              "      --fill-color: #1967D2;\n",
              "      --hover-bg-color: #E2EBFA;\n",
              "      --hover-fill-color: #174EA6;\n",
              "      --disabled-fill-color: #AAA;\n",
              "      --disabled-bg-color: #DDD;\n",
              "  }\n",
              "\n",
              "  [theme=dark] .colab-df-quickchart {\n",
              "      --bg-color: #3B4455;\n",
              "      --fill-color: #D2E3FC;\n",
              "      --hover-bg-color: #434B5C;\n",
              "      --hover-fill-color: #FFFFFF;\n",
              "      --disabled-bg-color: #3B4455;\n",
              "      --disabled-fill-color: #666;\n",
              "  }\n",
              "\n",
              "  .colab-df-quickchart {\n",
              "    background-color: var(--bg-color);\n",
              "    border: none;\n",
              "    border-radius: 50%;\n",
              "    cursor: pointer;\n",
              "    display: none;\n",
              "    fill: var(--fill-color);\n",
              "    height: 32px;\n",
              "    padding: 0;\n",
              "    width: 32px;\n",
              "  }\n",
              "\n",
              "  .colab-df-quickchart:hover {\n",
              "    background-color: var(--hover-bg-color);\n",
              "    box-shadow: 0 1px 2px rgba(60, 64, 67, 0.3), 0 1px 3px 1px rgba(60, 64, 67, 0.15);\n",
              "    fill: var(--button-hover-fill-color);\n",
              "  }\n",
              "\n",
              "  .colab-df-quickchart-complete:disabled,\n",
              "  .colab-df-quickchart-complete:disabled:hover {\n",
              "    background-color: var(--disabled-bg-color);\n",
              "    fill: var(--disabled-fill-color);\n",
              "    box-shadow: none;\n",
              "  }\n",
              "\n",
              "  .colab-df-spinner {\n",
              "    border: 2px solid var(--fill-color);\n",
              "    border-color: transparent;\n",
              "    border-bottom-color: var(--fill-color);\n",
              "    animation:\n",
              "      spin 1s steps(1) infinite;\n",
              "  }\n",
              "\n",
              "  @keyframes spin {\n",
              "    0% {\n",
              "      border-color: transparent;\n",
              "      border-bottom-color: var(--fill-color);\n",
              "      border-left-color: var(--fill-color);\n",
              "    }\n",
              "    20% {\n",
              "      border-color: transparent;\n",
              "      border-left-color: var(--fill-color);\n",
              "      border-top-color: var(--fill-color);\n",
              "    }\n",
              "    30% {\n",
              "      border-color: transparent;\n",
              "      border-left-color: var(--fill-color);\n",
              "      border-top-color: var(--fill-color);\n",
              "      border-right-color: var(--fill-color);\n",
              "    }\n",
              "    40% {\n",
              "      border-color: transparent;\n",
              "      border-right-color: var(--fill-color);\n",
              "      border-top-color: var(--fill-color);\n",
              "    }\n",
              "    60% {\n",
              "      border-color: transparent;\n",
              "      border-right-color: var(--fill-color);\n",
              "    }\n",
              "    80% {\n",
              "      border-color: transparent;\n",
              "      border-right-color: var(--fill-color);\n",
              "      border-bottom-color: var(--fill-color);\n",
              "    }\n",
              "    90% {\n",
              "      border-color: transparent;\n",
              "      border-bottom-color: var(--fill-color);\n",
              "    }\n",
              "  }\n",
              "</style>\n",
              "\n",
              "  <script>\n",
              "    async function quickchart(key) {\n",
              "      const quickchartButtonEl =\n",
              "        document.querySelector('#' + key + ' button');\n",
              "      quickchartButtonEl.disabled = true;  // To prevent multiple clicks.\n",
              "      quickchartButtonEl.classList.add('colab-df-spinner');\n",
              "      try {\n",
              "        const charts = await google.colab.kernel.invokeFunction(\n",
              "            'suggestCharts', [key], {});\n",
              "      } catch (error) {\n",
              "        console.error('Error during call to suggestCharts:', error);\n",
              "      }\n",
              "      quickchartButtonEl.classList.remove('colab-df-spinner');\n",
              "      quickchartButtonEl.classList.add('colab-df-quickchart-complete');\n",
              "    }\n",
              "    (() => {\n",
              "      let quickchartButtonEl =\n",
              "        document.querySelector('#df-f5e5e199-ab23-4dd2-90dd-a2ed2092321f button');\n",
              "      quickchartButtonEl.style.display =\n",
              "        google.colab.kernel.accessAllowed ? 'block' : 'none';\n",
              "    })();\n",
              "  </script>\n",
              "</div>\n",
              "\n",
              "    </div>\n",
              "  </div>\n"
            ],
            "application/vnd.google.colaboratory.intrinsic+json": {
              "type": "dataframe",
              "summary": "{\n  \"name\": \"BookDS\",\n  \"rows\": 8,\n  \"fields\": [\n    {\n      \"column\": \"Rating\",\n      \"properties\": {\n        \"dtype\": \"number\",\n        \"std\": 116.4329101766296,\n        \"min\": 0.46927235358909425,\n        \"max\": 333.0,\n        \"num_unique_values\": 8,\n        \"samples\": [\n          4.481981981981982,\n          4.6,\n          333.0\n        ],\n        \"semantic_type\": \"\",\n        \"description\": \"\"\n      }\n    },\n    {\n      \"column\": \"Reviews\",\n      \"properties\": {\n        \"dtype\": \"number\",\n        \"std\": 50545.80009375515,\n        \"min\": 0.0,\n        \"max\": 147327.0,\n        \"num_unique_values\": 8,\n        \"samples\": [\n          8238.124260355029,\n          2283.0,\n          338.0\n        ],\n        \"semantic_type\": \"\",\n        \"description\": \"\"\n      }\n    },\n    {\n      \"column\": \"Price\",\n      \"properties\": {\n        \"dtype\": \"number\",\n        \"std\": 435.16532088828865,\n        \"min\": 0.0,\n        \"max\": 1301.0,\n        \"num_unique_values\": 8,\n        \"samples\": [\n          86.24852071005917,\n          63.0,\n          338.0\n        ],\n        \"semantic_type\": \"\",\n        \"description\": \"\"\n      }\n    },\n    {\n      \"column\": \"Format\",\n      \"properties\": {\n        \"dtype\": \"number\",\n        \"std\": 118.48266940987081,\n        \"min\": 0.0,\n        \"max\": 338.0,\n        \"num_unique_values\": 7,\n        \"samples\": [\n          338.0,\n          3.2958579881656807,\n          4.0\n        ],\n        \"semantic_type\": \"\",\n        \"description\": \"\"\n      }\n    },\n    {\n      \"column\": \"Other Format\",\n      \"properties\": {\n        \"dtype\": \"number\",\n        \"std\": 117.84839786562634,\n        \"min\": 0.0,\n        \"max\": 338.0,\n        \"num_unique_values\": 8,\n        \"samples\": [\n          5.272189349112426,\n          6.5,\n          338.0\n        ],\n        \"semantic_type\": \"\",\n        \"description\": \"\"\n      }\n    }\n  ]\n}"
            }
          },
          "metadata": {},
          "execution_count": 16
        }
      ]
    },
    {
      "cell_type": "markdown",
      "source": [
        "To answer our fifth question in phase 1: What is the average rating for books within different price ranges?\n",
        "we will use this code to get the answer:"
      ],
      "metadata": {
        "id": "BJoGnTHDG7F8"
      }
    },
    {
      "cell_type": "code",
      "source": [
        "# Define price ranges\n",
        "price_ranges = [(0, 10), (10, 20), (20, 30), (30, 40), (40, 50), (50,60), (60,70),(70,80),(80,90)]  # Define your own price ranges as needed\n",
        "\n",
        "# Calculate average rating for each price range\n",
        "average_ratings = []\n",
        "for price_range in price_ranges:\n",
        "    lower_bound, upper_bound = price_range\n",
        "    filtered_books = BookDS[(BookDS['Price'] >= lower_bound) & (BookDS['Price'] < upper_bound)]\n",
        "    average_rating = filtered_books['Rating'].mean()\n",
        "    average_ratings.append((lower_bound, upper_bound, average_rating))\n",
        "\n",
        "# Create a DataFrame for the results\n",
        "result_df = pd.DataFrame(average_ratings, columns=['Price Lower Bound', 'Price Upper Bound', 'Average Rating'])\n",
        "\n",
        "print(result_df)"
      ],
      "metadata": {
        "colab": {
          "base_uri": "https://localhost:8080/"
        },
        "id": "zhcPZew0Gpqd",
        "outputId": "68d8d025-6835-400c-f9e9-9bbdea94b25a"
      },
      "execution_count": null,
      "outputs": [
        {
          "output_type": "stream",
          "name": "stdout",
          "text": [
            "   Price Lower Bound  Price Upper Bound  Average Rating\n",
            "0                  0                 10        4.628571\n",
            "1                 10                 20        4.257143\n",
            "2                 20                 30        4.378261\n",
            "3                 30                 40        4.405714\n",
            "4                 40                 50        4.586111\n",
            "5                 50                 60        4.448837\n",
            "6                 60                 70        4.497222\n",
            "7                 70                 80        4.434783\n",
            "8                 80                 90        4.519048\n"
          ]
        }
      ]
    },
    {
      "cell_type": "code",
      "source": [
        "BookDS.to_excel('/bookStructureddataset.xlsx')"
      ],
      "metadata": {
        "id": "rZDx3LGKiR5w"
      },
      "execution_count": null,
      "outputs": []
    },
    {
      "cell_type": "markdown",
      "source": [
        "#**3-Exploratory Data Analysis (EDA):**"
      ],
      "metadata": {
        "id": "Q7RO8Wn8w51U"
      }
    },
    {
      "cell_type": "markdown",
      "source": [
        "details about the data types:\n",
        "\n"
      ],
      "metadata": {
        "id": "9Tm4ih9UzxIP"
      }
    },
    {
      "cell_type": "code",
      "source": [
        "BookDS['Format'] = BookDS['Format'].astype('object')\n",
        "BookDS['Other Format'] = BookDS['Other Format'].astype('object')"
      ],
      "metadata": {
        "id": "dGc-mLIvxWqn"
      },
      "execution_count": null,
      "outputs": []
    },
    {
      "cell_type": "code",
      "source": [
        "cat_cols=BookDS.select_dtypes(include=['object']).columns\n",
        "num_cols = BookDS.select_dtypes(include=np.number).columns.tolist()\n",
        "print(\"Categorical Variables:\")\n",
        "print(cat_cols)\n",
        "print(\"Numerical Variables:\")\n",
        "print(num_cols)"
      ],
      "metadata": {
        "id": "E3_zQ46RzxyP",
        "colab": {
          "base_uri": "https://localhost:8080/"
        },
        "outputId": "b7150669-32e3-4dfe-a74b-01aed89546cd"
      },
      "execution_count": null,
      "outputs": [
        {
          "output_type": "stream",
          "name": "stdout",
          "text": [
            "Categorical Variables:\n",
            "Index(['Book Name', 'Author', 'Format', 'Other Format'], dtype='object')\n",
            "Numerical Variables:\n",
            "['Rating', 'Reviews', 'Price']\n"
          ]
        }
      ]
    },
    {
      "cell_type": "markdown",
      "source": [
        "### This code iterates over each numerical column in the num_cols list, prints its name and skewness, and then plots a histogram and a boxplot to visualize the distribution and spread of values in each column:"
      ],
      "metadata": {
        "id": "-w1KUVNVgDqA"
      }
    },
    {
      "cell_type": "code",
      "source": [
        "for col in num_cols:\n",
        "    print(col)\n",
        "    print('Skew :', round(BookDS[col].skew(), 2))\n",
        "    plt.figure(figsize = (15, 4))\n",
        "    plt.subplot(1, 2, 1)\n",
        "    BookDS[col].hist(grid=False)\n",
        "    plt.ylabel('count')\n",
        "    plt.subplot(1, 2, 2)\n",
        "    sns.boxplot(x=BookDS[col])\n",
        "    plt.show()"
      ],
      "metadata": {
        "id": "JDKc-3wIUJzX",
        "colab": {
          "base_uri": "https://localhost:8080/",
          "height": 1000
        },
        "outputId": "43e3014e-e35f-4ba0-bb40-78dc17fa67b6"
      },
      "execution_count": null,
      "outputs": [
        {
          "output_type": "stream",
          "name": "stdout",
          "text": [
            "Rating\n",
            "Skew : -2.49\n"
          ]
        },
        {
          "output_type": "display_data",
          "data": {
            "text/plain": [
              "<Figure size 1500x400 with 2 Axes>"
            ],
            "image/png": "[encoded data removed]"
          },
          "metadata": {}
        },
        {
          "output_type": "stream",
          "name": "stdout",
          "text": [
            "Reviews\n",
            "Skew : 4.28\n"
          ]
        },
        {
          "output_type": "display_data",
          "data": {
            "text/plain": [
              "<Figure size 1500x400 with 2 Axes>"
            ],
            "image/png": "[encoded data removed]"
          },
          "metadata": {}
        },
        {
          "output_type": "stream",
          "name": "stdout",
          "text": [
            "Price\n",
            "Skew : 6.43\n"
          ]
        },
        {
          "output_type": "display_data",
          "data": {
            "text/plain": [
              "<Figure size 1500x400 with 2 Axes>"
            ],
            "image/png": "[encoded data removed]"
          },
          "metadata": {}
        }
      ]
    },
    {
      "cell_type": "markdown",
      "source": [
        "### The heatmap visualizes the relationships between different variables in the our dataset based on their correlation coefficients:\n",
        "Answering our second question in phase second : What is the correlation between the price of a book and its rating? (-0.1)"
      ],
      "metadata": {
        "id": "jPIg99AxhFJ_"
      }
    },
    {
      "cell_type": "code",
      "source": [
        "plt.figure(figsize=(10,5))\n",
        "sns.heatmap(BookDS.corr(), annot=True)"
      ],
      "metadata": {
        "colab": {
          "base_uri": "https://localhost:8080/",
          "height": 523
        },
        "id": "aBR7V7v8u2ea",
        "outputId": "50f9daed-ff0b-4b55-b794-5bb071c5935d"
      },
      "execution_count": null,
      "outputs": [
        {
          "output_type": "stream",
          "name": "stderr",
          "text": [
            "<ipython-input-17-376160636aac>:2: FutureWarning: The default value of numeric_only in DataFrame.corr is deprecated. In a future version, it will default to False. Select only valid columns or specify the value of numeric_only to silence this warning.\n",
            "  sns.heatmap(BookDS.corr(), annot=True)\n"
          ]
        },
        {
          "output_type": "execute_result",
          "data": {
            "text/plain": [
              "<Axes: >"
            ]
          },
          "metadata": {},
          "execution_count": 17
        },
        {
          "output_type": "display_data",
          "data": {
            "text/plain": [
              "<Figure size 1000x500 with 2 Axes>"
            ],
            "image/png": "[encoded data removed]"
          },
          "metadata": {}
        }
      ]
    },
    {
      "cell_type": "markdown",
      "source": [
        "###  the bar plot  represents a different Book Format type and the height of each bar corresponds to its 'Rating' score.\n",
        "Answering our first question in phase 1 : Which book format \"hardcover, paperback, Audio, etc.\" has the highest average rating? (paperback,hardcover,board book)"
      ],
      "metadata": {
        "id": "sRSFEILkhc1M"
      }
    },
    {
      "cell_type": "code",
      "source": [
        "plt.figure(figsize=(8, 6))\n",
        "plt.bar(BookDS['Format'], BookDS['Rating'], color='Green')\n",
        "plt.xlabel('Format Type')\n",
        "plt.ylabel('Rating Score')"
      ],
      "metadata": {
        "colab": {
          "base_uri": "https://localhost:8080/",
          "height": 559
        },
        "id": "oE4ICqNYxxdK",
        "outputId": "08256787-4736-42a9-83ed-ed5c15272527"
      },
      "execution_count": null,
      "outputs": [
        {
          "output_type": "execute_result",
          "data": {
            "text/plain": [
              "Text(0, 0.5, 'Rating Score')"
            ]
          },
          "metadata": {},
          "execution_count": 19
        },
        {
          "output_type": "display_data",
          "data": {
            "text/plain": [
              "<Figure size 800x600 with 1 Axes>"
            ],
            "image/png": "[encoded data removed]"
          },
          "metadata": {}
        }
      ]
    },
    {
      "cell_type": "markdown",
      "source": [
        "# **4-Build A model :**"
      ],
      "metadata": {
        "id": "Tymsfz1v3hSz"
      }
    },
    {
      "cell_type": "markdown",
      "source": [
        "With our dataset processed, cleaned, and thoroughly explored, it's time to take the next step: constructing a prediction model. By harnessing the insights gained from our EDA, we aim to develop a reliable model capable of forecasting with precision."
      ],
      "metadata": {
        "id": "-LvEEy_S3pCt"
      }
    },
    {
      "cell_type": "markdown",
      "source": [
        "we want to predict the Rating using linear regression because it's a suitable choice due to its simplicity and interpretability. we will use two models (RMSE and MAE) with three algorithms (Random Forest Regression, Gradient Boosting Regression, and Baseline Model ) in the end we want to choose the best model with the right algorithm."
      ],
      "metadata": {
        "id": "idcf1IkR6cNy"
      }
    },
    {
      "cell_type": "markdown",
      "source": [
        "**4.1 Preparing the data  by separating the features and target variable**"
      ],
      "metadata": {
        "id": "ega_79As7rYm"
      }
    },
    {
      "cell_type": "code",
      "source": [
        "#importing necessarily libraries\n",
        "from sklearn.model_selection import train_test_split\n",
        "from sklearn.linear_model import LinearRegression\n",
        "from sklearn.ensemble import RandomForestRegressor, GradientBoostingRegressor\n",
        "from sklearn.metrics import mean_squared_error, r2_score\n",
        "from sklearn.impute import SimpleImputer"
      ],
      "metadata": {
        "id": "aOypbHFy719g"
      },
      "execution_count": null,
      "outputs": []
    },
    {
      "cell_type": "code",
      "source": [
        "# Prepare data\n",
        "X = BookDS.drop('Rating', axis=1)  # Features\n",
        "X = X.drop('Author', axis=1)  # Features\n",
        "X = X.drop('Book Name', axis=1)  # Features\n",
        "X = X.drop('Format', axis=1)  # Features\n",
        "X = X.drop('Other Format', axis=1)  # Features\n",
        "y = BookDS['Rating']  # Target variable\n",
        "X_train, X_test, y_train, y_test = train_test_split(X, y, test_size=0.2, random_state=42)\n",
        "# Impute missing values in training and test data\n",
        "imputer = SimpleImputer(strategy='mean')  # You can change 'mean' to 'median' or 'most_frequent' if more appropriate\n",
        "X_train_imputed = imputer.fit_transform(X_train)\n",
        "X_test_imputed = imputer.transform(X_test)\n"
      ],
      "metadata": {
        "id": "cUfQcLVl76lj"
      },
      "execution_count": null,
      "outputs": []
    },
    {
      "cell_type": "markdown",
      "source": [
        "**4.2 Splitting the dataset To training and testing sets**"
      ],
      "metadata": {
        "id": "Lo1cKqWV8DIh"
      }
    },
    {
      "cell_type": "code",
      "source": [
        "# Models setup\n",
        "lin_reg = LinearRegression()\n",
        "rf_reg = RandomForestRegressor(n_estimators=100, random_state=42)\n",
        "gb_reg = GradientBoostingRegressor(n_estimators=100, random_state=42)"
      ],
      "metadata": {
        "id": "uXIBtgpj8Jy2"
      },
      "execution_count": null,
      "outputs": []
    },
    {
      "cell_type": "markdown",
      "source": [
        "**4.3 Applying the models in the dataset and evalute it using RMSE and MAE**"
      ],
      "metadata": {
        "id": "LvGIDVgd8NmK"
      }
    },
    {
      "cell_type": "code",
      "source": [
        "from sklearn.metrics import mean_squared_error, mean_absolute_error\n",
        "\n",
        "def evaluate_model(model, X_train, y_train, X_test, y_test):\n",
        "    model.fit(X_train, y_train)\n",
        "    y_pred = model.predict(X_test)\n",
        "    rmse = np.sqrt(mean_squared_error(y_test, y_pred))\n",
        "    mae = mean_absolute_error(y_test, y_pred)\n",
        "    return rmse, mae\n",
        "\n",
        "# Evaluate models with imputed data\n",
        "baseline_rmse, baseline_mae = evaluate_model(lin_reg, X_train_imputed, y_train, X_test_imputed, y_test)\n",
        "rf_rmse, rf_mae = evaluate_model(rf_reg, X_train_imputed, y_train, X_test_imputed, y_test)\n",
        "gb_rmse, gb_mae = evaluate_model(gb_reg, X_train_imputed, y_train, X_test_imputed, y_test)\n",
        "\n",
        "# Output results\n",
        "print(\"Baseline Model (Linear Regression) RMSE:\", baseline_rmse, \"MAE:\", baseline_mae)\n",
        "print(\"Random Forest RMSE:\", rf_rmse, \"MAE:\", rf_mae)\n",
        "print(\"Gradient Boosting RMSE:\", gb_rmse, \"MAE:\", gb_mae)"
      ],
      "metadata": {
        "colab": {
          "base_uri": "https://localhost:8080/"
        },
        "id": "cZO0Wv8R8WcG",
        "outputId": "2fa9becf-9aae-48c8-ebba-f495e9e9311f"
      },
      "execution_count": null,
      "outputs": [
        {
          "output_type": "stream",
          "name": "stdout",
          "text": [
            "Baseline Model (Linear Regression) RMSE: 0.3108442868213599 MAE: 0.2569384043928855\n",
            "Random Forest RMSE: 0.3551152850436623 MAE: 0.27402985074626773\n",
            "Gradient Boosting RMSE: 0.4092946263091741 MAE: 0.2920183319009363\n"
          ]
        }
      ]
    },
    {
      "cell_type": "markdown",
      "source": [
        "## **4.4 Evaluation :**"
      ],
      "metadata": {
        "id": "rNYA-v9p9N2W"
      }
    },
    {
      "cell_type": "markdown",
      "source": [
        "## Linear Regression:\n",
        "**RMSE** (Root Mean Squared Error): 0.310\n",
        "\n",
        "**MAE** (Mean Absolute Error): 0.256\n",
        "\n",
        "**Description**: Linear regression is a simple and interpretable model used for predicting continuous variables. The RMSE and MAE indicate its predictive accuracy on the given dataset. With an RMSE of 0.310 and MAE of 0.256, this model demonstrates relatively good performance in terms of both metrics. The RMSE being lower than the other models suggests that linear regression captures the variability in the data fairly well.\n",
        "\n",
        "## Random Forest:\n",
        "**RMSE**: 0.355\n",
        "\n",
        "**MAE**: 0.274\n",
        "\n",
        "**Description**: Random Forest is an ensemble learning method based on decision trees. It combines multiple decision trees to improve predictive performance and reduce overfitting. The RMSE of 0.355 and MAE of 0.274 indicate its performance on the dataset. While Random Forest performs well, its RMSE is slightly higher than that of linear regression, suggesting that it may not capture the variability as precisely as linear regression on this dataset.\n",
        "\n",
        "## Gradient Boosting:\n",
        "**RMSE**: 0.409\n",
        "\n",
        "**MAE**: 0.292\n",
        "\n",
        "**Description**: Gradient Boosting is another ensemble learning technique that builds models sequentially, with each new model correcting errors made by the previous ones. It typically provides better predictive performance than Random Forest but may be more prone to overfitting. In this case, the RMSE of 0.409 and MAE of 0.292 indicate its performance. The higher RMSE compared to both linear regression and Random Forest suggests that Gradient Boosting may not generalize as well to unseen data in this context, possibly due to overfitting."
      ],
      "metadata": {
        "id": "QX8WjP7T9XfF"
      }
    },
    {
      "cell_type": "markdown",
      "source": [
        "### in the end\n",
        "**Since** lower values of RMSE and MAE indicate better predictive performance, Linear Regression appears to be the better model among the three for this particular dataset. It has the lowest error metrics, suggesting that it captures the variability in the data more accurately than Random Forest and Gradient Boosting."
      ],
      "metadata": {
        "id": "83c7f7inAZih"
      }
    },
    {
      "cell_type": "markdown",
      "source": [
        "## **4.5 Visualizing the results**"
      ],
      "metadata": {
        "id": "ZN8LLxogAoww"
      }
    },
    {
      "cell_type": "markdown",
      "source": [
        "As the Baseline model Gives the best result, we will visualize it to make it easy for having agood understanding for the result."
      ],
      "metadata": {
        "id": "fj4VbfkgA7Qq"
      }
    },
    {
      "cell_type": "code",
      "source": [
        "# Assuming y_test are the true values and y_pred are the predictions from one of your models\n",
        "y_pred_gb = lin_reg.predict(X_test_imputed)  # Predictions from the Gradient Boosting model"
      ],
      "metadata": {
        "id": "SG1EBfR9Bm7S"
      },
      "execution_count": null,
      "outputs": []
    },
    {
      "cell_type": "code",
      "source": [
        "# Residual plot\n",
        "residuals = y_test - y_pred_gb\n",
        "plt.figure(figsize=(10, 6))\n",
        "plt.scatter(y_pred_gb, residuals, alpha=0.3)\n",
        "plt.hlines(0, xmin=y_pred_gb.min(), xmax=y_pred_gb.max(), linestyles='dashed', colors='red')\n",
        "plt.xlabel('Predicted')\n",
        "plt.ylabel('Residuals')\n",
        "plt.title('Residuals vs. Predicted')\n",
        "plt.show()"
      ],
      "metadata": {
        "colab": {
          "base_uri": "https://localhost:8080/",
          "height": 564
        },
        "id": "GPkdp72LBBjZ",
        "outputId": "f5363599-e8b1-4923-e5cb-b29a8a4d93c4"
      },
      "execution_count": null,
      "outputs": [
        {
          "output_type": "display_data",
          "data": {
            "text/plain": [
              "<Figure size 1000x600 with 1 Axes>"
            ],
            "image/png": "[encoded data removed]"
          },
          "metadata": {}
        }
      ]
    },
    {
      "cell_type": "markdown",
      "source": [
        "A residual plot is a graphical tool used in regression analysis to assess the goodness of fit of a model by plotting the residuals against the independent variable(s). Ideally, the plot should show a random scattering of points around the horizontal axis, indicating that the model's predictions are unbiased and capturing the relationship between the variables accurately."
      ],
      "metadata": {
        "id": "ir9pI5buBDzR"
      }
    }
  ]
}